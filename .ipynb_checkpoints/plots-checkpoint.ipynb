{
 "cells": [
  {
   "cell_type": "code",
   "execution_count": 66,
   "id": "ca2d0ba6",
   "metadata": {},
   "outputs": [],
   "source": [
    "%matplotlib inline\n",
    "import numpy as np\n",
    "import matplotlib,matplotlib.pyplot as plt"
   ]
  },
  {
   "cell_type": "code",
   "execution_count": 70,
   "id": "402faa85",
   "metadata": {},
   "outputs": [],
   "source": [
    "RANGE = [int(2**i) for i in np.arange(7,13)]"
   ]
  },
  {
   "cell_type": "code",
   "execution_count": 71,
   "id": "89805885",
   "metadata": {},
   "outputs": [],
   "source": [
    "def read_results(filename):\n",
    "    res = {i:[] for i in RANGE}\n",
    "    with open(filename, \"r\") as f:\n",
    "        for l in f:\n",
    "            s = l.strip(\"\\n\").split(\",\")\n",
    "            size = int(s[0])\n",
    "            duration = float(s[1])\n",
    "            if size in RANGE:\n",
    "                res[size].append(duration)\n",
    "    return res"
   ]
  },
  {
   "cell_type": "code",
   "execution_count": 72,
   "id": "f453dea4",
   "metadata": {},
   "outputs": [],
   "source": [
    "res_ours = read_results(\"res_ours.csv\")\n",
    "res_baseline = read_results(\"res_baseline.csv\")"
   ]
  },
  {
   "cell_type": "code",
   "execution_count": 73,
   "id": "be7f8f80",
   "metadata": {},
   "outputs": [],
   "source": [
    "means_ours = []\n",
    "means_baseline = []\n",
    "stds_ours = []\n",
    "stds_baseline = []\n",
    "for i in RANGE:\n",
    "    means_ours.append(np.mean(res_ours[i]))\n",
    "    means_baseline.append(np.mean(res_baseline[i]))\n",
    "    stds_ours.append(np.std(res_ours[i]))\n",
    "    stds_baseline.append(np.std(res_baseline[i]))"
   ]
  },
  {
   "cell_type": "code",
   "execution_count": 79,
   "id": "e656f0b3",
   "metadata": {},
   "outputs": [
    {
     "name": "stderr",
     "output_type": "stream",
     "text": [
      "No artists with labels found to put in legend.  Note that artists whose label start with an underscore are ignored when legend() is called with no argument.\n"
     ]
    },
    {
     "data": {
      "image/png": "[encoded data removed]",
      "text/plain": [
       "<Figure size 432x288 with 1 Axes>"
      ]
     },
     "metadata": {
      "needs_background": "light"
     },
     "output_type": "display_data"
    }
   ],
   "source": [
    "fig, ax = plt.subplots()\n",
    "#plt.plot(RANGE, means_ours, label=\"Ours\")\n",
    "plt.errorbar(RANGE, means_ours, yerr=stds_ours, barsabove=True)\n",
    "#plt.plot(RANGE, means_baseline, label=\"BFS\")\n",
    "plt.errorbar(RANGE, means_baseline, yerr=stds_baseline, barsabove=True)\n",
    "\n",
    "plt.legend(fontsize=16)\n",
    "#plt.xscale(\"log\")\n",
    "#plt.yscale(\"log\")\n",
    "plt.xticks(RANGE[1:],rotation=45, ha=\"right\", fontsize=15)\n",
    "ax.get_xaxis().set_major_formatter(matplotlib.ticker.ScalarFormatter())\n",
    "\n",
    "plt.savefig(\"results.pdf\")"
   ]
  },
  {
   "cell_type": "code",
   "execution_count": null,
   "id": "c95e7614",
   "metadata": {},
   "outputs": [],
   "source": [
    "\n",
    "\n",
    "\n",
    "\n",
    "\n",
    "\n",
    "\n",
    "\n",
    "\n",
    "\n",
    "\n",
    "\n",
    "\n",
    "\n",
    "\n",
    "\n",
    "\n",
    "\n",
    "\n",
    "\n",
    "\n",
    "\n",
    "\n"
   ]
  }
 ],
 "metadata": {
  "kernelspec": {
   "display_name": "Python 3 (ipykernel)",
   "language": "python",
   "name": "python3"
  },
  "language_info": {
   "codemirror_mode": {
    "name": "ipython",
    "version": 3
   },
   "file_extension": ".py",
   "mimetype": "text/x-python",
   "name": "python",
   "nbconvert_exporter": "python",
   "pygments_lexer": "ipython3",
   "version": "3.9.12"
  }
 },
 "nbformat": 4,
 "nbformat_minor": 5
}
